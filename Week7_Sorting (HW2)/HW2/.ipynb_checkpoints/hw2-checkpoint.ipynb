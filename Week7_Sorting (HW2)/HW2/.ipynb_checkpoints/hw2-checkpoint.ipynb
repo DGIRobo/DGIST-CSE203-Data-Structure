{
 "cells": [
  {
   "cell_type": "code",
   "execution_count": 1,
   "id": "68e22ff7-35b9-4d83-a58e-74ac09cf7aa7",
   "metadata": {
    "tags": []
   },
   "outputs": [],
   "source": [
    "from linked_tree import LinkedTree"
   ]
  },
  {
   "cell_type": "markdown",
   "id": "10df91d1-e572-4b2f-b76b-75c586f205a3",
   "metadata": {
    "tags": []
   },
   "source": [
    "# HW 2-1. Complete the linked tree implementation. (5p)\n",
    "\n",
    "In the `linked_tree.py`, complete these methods:\n",
    " - `_add_root(self, e)`\n",
    " - `_add_child(self, p, e)`\n",
    " - `_replace(self, p, e)` \n",
    " - `_delete(self, p)`\n",
    " \n",
    "Look at the comments for each method to how each method should work."
   ]
  },
  {
   "cell_type": "code",
   "execution_count": 2,
   "id": "33531e83-284f-416d-96e4-718e6e2ae22d",
   "metadata": {
    "tags": []
   },
   "outputs": [
    {
     "name": "stdout",
     "output_type": "stream",
     "text": [
      "Test case 1: Add root\n",
      "Root: A\n",
      "\n",
      "Test case 2: Add children\n",
      "Children of A: ['B', 'C', 'D']\n",
      "\n",
      "Test case 3: Replace element\n",
      "New element at B's position: B_new\n",
      "Now Children of A: ['B_new', 'C', 'D']\n"
     ]
    }
   ],
   "source": [
    "# Example test cases to verify your implementation\n",
    "T = LinkedTree()\n",
    "\n",
    "# Test case 1: Test _add_root functionality\n",
    "print(\"Test case 1: Add root\")\n",
    "root = T._add_root('A')\n",
    "print(f\"Root: {root.element()}\")  # Output: Root: A\n",
    "\n",
    "# Test case 2: Test _add_child functionality\n",
    "print(\"\\nTest case 2: Add children\")\n",
    "b = T._add_child(root, 'B')\n",
    "c = T._add_child(root, 'C')\n",
    "d = T._add_child(root, 'D')\n",
    "\n",
    "# Output: Children of A: ['B', 'C', 'D']\n",
    "print(f\"Children of A: {[child.element() for child in T.children(root)]}\")\n",
    "\n",
    "# Test case 3: Test _replace functionality\n",
    "print(\"\\nTest case 3: Replace element\")\n",
    "T._replace(b, 'B_new')\n",
    "print(f\"New element at B's position: {b.element()}\")  # Output: New element at B's position: B_new\n",
    "print(f\"Now Children of A: {[child.element() for child in T.children(root)]}\")"
   ]
  },
  {
   "cell_type": "markdown",
   "id": "dd737b6b-92c0-415f-be74-5c2bee0b207f",
   "metadata": {
    "tags": []
   },
   "source": [
    "# HW 2-2. Level-order traversal of a tree (5p)\n",
    "\n",
    "You will implement a level-order traversal of a tree. Your goal is to create a function that, given a tree, visits each node in the order corresponding to their level in the tree, from left to right.\n",
    "\n",
    "## Background\n",
    "Level-order traversal, also known as breadth-first traversal, is a tree traversal method where nodes are visited level by level, moving from left to right at each level. This traversal method can be useful when you need to process nodes in a specific order or when you want to find the shortest path to a specific node in the tree.\n",
    "\n",
    "## Instructions\n",
    "- Implement a method called levelorder() in the Tree class that generates a level-order iteration of positions in the tree. The running time of this level-order traversal should be O(n), where *n* is the number of items in the tree.\n",
    "\n",
    "\n",
    "Hints:\n",
    "Consider using a queue as a substructure. Start by enqueuing the root of the tree.\n",
    "\n",
    "For a tree with the following structure:\n",
    "```mathematica\n",
    "    A\n",
    "   /|\\\n",
    "  B C D\n",
    " /|   |\\\n",
    "E F   G H\n",
    "```\n",
    "\n",
    "Your level_order_traversal function should return the following list: ['A', 'B', 'C', 'D', 'E', 'F', 'G', 'H'].\n"
   ]
  },
  {
   "cell_type": "code",
   "execution_count": 3,
   "id": "8bd60231-5aeb-4280-b5a4-4458a3aa2bb0",
   "metadata": {
    "tags": []
   },
   "outputs": [],
   "source": [
    "T = LinkedTree()"
   ]
  },
  {
   "cell_type": "code",
   "execution_count": 4,
   "id": "6f7a14dc-f3ef-4bc8-a340-fe859581d44d",
   "metadata": {
    "tags": []
   },
   "outputs": [
    {
     "data": {
      "text/plain": [
       "<linked_tree.LinkedTree.Position at 0x1c086de3730>"
      ]
     },
     "execution_count": 4,
     "metadata": {},
     "output_type": "execute_result"
    }
   ],
   "source": [
    "# Example tree construction\n",
    "\n",
    "root = T._add_root('A')\n",
    "b = T._add_child(root, 'B')\n",
    "c = T._add_child(root, 'C')\n",
    "d = T._add_child(root, 'D')\n",
    "\n",
    "T._add_child(b, 'B1')\n",
    "T._add_child(b, 'B2')\n",
    "\n",
    "c1 = T._add_child(c, 'C1')\n",
    "\n",
    "T._add_child(d, 'D1')\n",
    "T._add_child(d, 'D2')\n",
    "T._add_child(d, 'D3')\n",
    "\n",
    "T._add_child(c1, \"C11\")\n",
    "T._add_child(c1, \"C12\")\n",
    "T._add_child(c1, \"C13\")"
   ]
  },
  {
   "cell_type": "code",
   "execution_count": 5,
   "id": "a70899e8-5737-4771-ab70-1312367883c7",
   "metadata": {
    "tags": []
   },
   "outputs": [
    {
     "name": "stdout",
     "output_type": "stream",
     "text": [
      "A\n",
      "B\n",
      "C\n",
      "D\n",
      "B1\n",
      "B2\n",
      "C1\n",
      "D1\n",
      "D2\n",
      "D3\n",
      "C11\n",
      "C12\n",
      "C13\n"
     ]
    }
   ],
   "source": [
    "for node in T.levelorder():\n",
    "    print(node.element())"
   ]
  },
  {
   "cell_type": "code",
   "execution_count": 6,
   "id": "35ae6b1f-810f-4efc-b0ca-936be71c97b8",
   "metadata": {
    "tags": []
   },
   "outputs": [
    {
     "name": "stdout",
     "output_type": "stream",
     "text": [
      "A\n",
      "B\n",
      "B1\n",
      "B2\n",
      "C\n",
      "C1\n",
      "C11\n",
      "C12\n",
      "C13\n",
      "D\n",
      "D1\n",
      "D2\n",
      "D3\n"
     ]
    }
   ],
   "source": [
    "# this block is not related to the homework. just for your fun\n",
    "for node in T.preorder():\n",
    "    print(node.element())"
   ]
  },
  {
   "cell_type": "code",
   "execution_count": 7,
   "id": "6e6ab8e6-1ce8-47b2-a7b0-c79e8db81f97",
   "metadata": {
    "tags": []
   },
   "outputs": [
    {
     "name": "stdout",
     "output_type": "stream",
     "text": [
      "B1\n",
      "B2\n",
      "B\n",
      "C11\n",
      "C12\n",
      "C13\n",
      "C1\n",
      "C\n",
      "D1\n",
      "D2\n",
      "D3\n",
      "D\n",
      "A\n"
     ]
    }
   ],
   "source": [
    "# this block is not related to the homework. just for your fun\n",
    "for node in T.postorder():\n",
    "    print(node.element())"
   ]
  },
  {
   "cell_type": "markdown",
   "id": "9c47c2a9-0718-4c8b-9fc9-d73af224e55a",
   "metadata": {},
   "source": [
    "# HW 2-3. Commenting (5p)\n",
    "\n",
    "Commenting your code is an essential part of good programming practices. Well-documented code is easier to understand, maintain, and debug. It allows you, your teammates, and future developers to quickly grasp the purpose, functionality, and behavior of your code. Comments help ensure that your code remains usable and maintainable, even as the project evolves or new developers join the team.\n",
    "\n",
    "In this homework, you are expected to provide detailed comments for all methods in tree.py and linked_tree.py. This exercise will help you to develop good commenting habits and improve your ability to communicate the purpose and functionality of your code to others.\n",
    "\n",
    "## Instructions\n",
    "1. For each method in the tree.py and linked_tree.py files, add a comment block and inline comments, as necessary, to clearly explain the purpose, functionality, input parameters, and return values of the method.\n",
    "2. Ensure that your comments are concise, clear, and easy to understand.\n",
    "3. The level of detail in your comments should be similar to the example provided below.\n",
    "\n",
    "```python\n",
    "\"\"\"\n",
    "Initialize a new node object with the given element, parent, and children.\n",
    "\n",
    ":param element: The element to be stored in the node\n",
    ":param parent: A reference to the parent node (default: None)\n",
    ":param children: A list of references to the children nodes (default: None)\n",
    "\"\"\"\n",
    "def __init__(self, element, parent=None, children=None):\n",
    "    self._element = element  # The element of this node\n",
    "    self._parent = parent  # A reference to the parent node\n",
    "\n",
    "    # If 'children' is None, initialize an empty list for children nodes;\n",
    "    # otherwise, use the provided list of children nodes\n",
    "    if children is None:\n",
    "        self._children = []\n",
    "    else:\n",
    "        self._children = children  # List of references to children nodes\n",
    "\n",
    "```"
   ]
  },
  {
   "cell_type": "markdown",
   "id": "bf8fcd51-56a6-408a-9266-3c4fa9966ad7",
   "metadata": {
    "tags": []
   },
   "source": [
    "# HW 2-4. Test cases (max 5p, 1p per your own test)\n",
    "\n",
    "In this notebook file, write your own test cases to test your implementation with various tree structures and various examples to ensure its correctness.\n",
    "\n",
    "(you can add more if you want)"
   ]
  },
  {
   "cell_type": "code",
   "execution_count": 8,
   "id": "1b4d5d26-b345-473e-af4f-7bbc3c8b60bd",
   "metadata": {
    "tags": []
   },
   "outputs": [
    {
     "name": "stdout",
     "output_type": "stream",
     "text": [
      "Before Removing: size-14, items-['A', 'A1', 'A11', 'A12', 'A13', 'A14', 'A2', 'A21', 'A211', 'A212', 'A213', 'A3', 'A31', 'A32']\n",
      "removing A213\n",
      "After Removing: size-13, items-['A', 'A1', 'A11', 'A12', 'A13', 'A14', 'A2', 'A21', 'A211', 'A212', 'A3', 'A31', 'A32']\n"
     ]
    }
   ],
   "source": [
    "# Test 1\n",
    "T = LinkedTree()\n",
    "\n",
    "# Write your test case setup and results\n",
    "\"\"\"\n",
    "테스트의 목적: 받아둔 Position을 통해 제거된 Node에 접근했을 때, 해당 Node가 Tree와 link되어 있지 않은 Garbage Data라는 것을 확인\n",
    "테스트에서 기대되는 결과값: Tree에서 제거 전후 Size는 1이 줄것이고 Node는 잔존하지 않을 것. \n",
    "                            받아둔 Position을 통해 제거된 Node에 접근하려고 하면, 타당하지 않은 position이라는 error 출력\n",
    "                            \n",
    "\"\"\"\n",
    "root = T._add_root('A')\n",
    "a1 = T._add_child(root, 'A1')\n",
    "a2 = T._add_child(root, 'A2')\n",
    "a3 = T._add_child(root, 'A3')\n",
    "\n",
    "a11 = T._add_child(a1, 'A11')\n",
    "a12 = T._add_child(a1, 'A12')\n",
    "a12 = T._add_child(a1, 'A13')\n",
    "a12 = T._add_child(a1, 'A14')\n",
    "\n",
    "a21 = T._add_child(a2, 'A21')\n",
    "\n",
    "a31 = T._add_child(a3, 'A31')\n",
    "a32 = T._add_child(a3, 'A32')\n",
    "\n",
    "a211 = T._add_child(a21, \"A211\")\n",
    "a212 = T._add_child(a21, \"A212\")\n",
    "a213 = T._add_child(a21, \"A213\")\n",
    "\n",
    "print(f\"Before Removing: size-{len(T)}, items-{[node for node in T]}\") # Expected Output: Before Removing: size-14, items-['A', 'A1', 'A11', 'A12', 'A13', 'A14', 'A2', 'A21', 'A211', 'A212', 'A213', 'A3', 'A31', 'A32']\n",
    "print(f\"removing {T._delete(a213)}\") # Expected Output: removing A213\n",
    "print(f\"After Removing: size-{len(T)}, items-{[node for node in T]}\") # Expected Output: After Removing: size-13, items-['A', 'A1', 'A11', 'A12', 'A13', 'A14', 'A2', 'A21', 'A211', 'A212', 'A3', 'A31', 'A32']\n",
    "# print(f\"removed node {a213.element()}'s parent is {T.parent(a213)} and the number of children is {T.num_children(a213)}.\") # Expected Output: ValueError: p is no longer valid"
   ]
  },
  {
   "cell_type": "code",
   "execution_count": 9,
   "id": "01ef3e70-f7b9-4cb0-8688-83241ada4ba3",
   "metadata": {
    "tags": []
   },
   "outputs": [
    {
     "name": "stdout",
     "output_type": "stream",
     "text": [
      "T1 is not Proper Binary Tree\n",
      "T2 is Proper Binary Tree\n"
     ]
    }
   ],
   "source": [
    "# Test 2\n",
    "T1 = LinkedTree()\n",
    "T2 = LinkedTree()\n",
    "\n",
    "# Write your test case setup and results\n",
    "\"\"\"\n",
    "테스트의 목적: 이론적으로 어떤 Tree가 External Node가 아닌 Node들에 대해서 Child Node를 2개씩 가지면 \n",
    "                그 Tree를 Proper Tree라고 할 수 있다. \n",
    "                이 개념을 적용하여 상위 Node부터 차례로 internal node인지, Child를 2개씩 가지는지 확인해서  \n",
    "                입력된 Tree가 Proper Binary Tree인지 True, False를 리턴하는 isProperBinary 함수를 구현하고 실행하는 것을 통해\n",
    "                levelorder() 함수가 상위 Node부터 하위 Node로 position 값을 제대로 순서대로 리턴하고 있는 것이 맞는지와 \n",
    "                is_leaf() 함수와 num_children() 함수가 Tree에서 어느 위치에 있는 Node이던 정상적으로 검사할 수 있는지를 검증한다.\n",
    "테스트에서 기대되는 결과값: Error가 발생하지 않고 입력된 Tree가 Proper Binary Tree인지 검사하여 맞으면 True, 틀리면 False 출력\n",
    "\"\"\"\n",
    "\n",
    "def isProperBinary(tree):\n",
    "    levelorderlist = []\n",
    "    for node in tree.levelorder():\n",
    "        levelorderlist.append(node)\n",
    "    for node in levelorderlist:\n",
    "        if tree.is_leaf(node) == False and tree.num_children(node) != 2: return False\n",
    "    return True\n",
    "#Non-ProperBinaryTree\n",
    "a = T1._add_root('A')\n",
    "a1 = T1._add_child(a, 'A1')\n",
    "a2 = T1._add_child(a, 'A2')\n",
    "\n",
    "a11 = T1._add_child(a1, 'A11')\n",
    "a12 = T1._add_child(a1, 'A12')\n",
    "\n",
    "a111 = T1._add_child(a11, 'A111')\n",
    "a112 = T1._add_child(a11, 'A112')\n",
    "\n",
    "a1111 = T1._add_child(a111, 'A1111')\n",
    "a1112 = T1._add_child(a111, 'A1112')\n",
    "a1113 = T1._add_child(a111, 'A1113')\n",
    "\n",
    "#ProperBinaryTree\n",
    "b = T2._add_root('B')\n",
    "b1 = T2._add_child(b, 'B1')\n",
    "b2 = T2._add_child(b, 'B2')\n",
    "\n",
    "b11 = T2._add_child(b1, 'B11')\n",
    "b12 = T2._add_child(b1, 'B12')\n",
    "\n",
    "b111 = T2._add_child(b11, 'B111')\n",
    "b112 = T2._add_child(b11, 'B112')\n",
    "\n",
    "b1111 = T2._add_child(b111, 'B1111')\n",
    "b1112 = T2._add_child(b111, 'B1112')\n",
    "\n",
    "print(f\"T1 is{' not'*(not isProperBinary(T1))} Proper Binary Tree\") # Expected Output: T1 is not Proper Binary Tree\n",
    "print(f\"T2 is{' not'*(not isProperBinary(T2))} Proper Binary Tree\") # Expected Output: T2 is Proper Binary Tree"
   ]
  },
  {
   "cell_type": "code",
   "execution_count": 10,
   "id": "8998bc0c-1cc4-4f65-a78b-ee5b8e641cc8",
   "metadata": {},
   "outputs": [
    {
     "name": "stdout",
     "output_type": "stream",
     "text": [
      "TestCase1: [None]\n",
      "TestCase2: ['A']\n",
      "TestCase3: ['A', 'B', 'C']\n",
      "TestCase4: ['A', 'B', 'G', 'C', 'D', 'E', 'F']\n",
      "TestCase5: ['A', 'B', 'G', 'H', 'I', 'J', 'K', 'C', 'L', 'M', 'N', 'O', 'P', 'D', 'E', 'F']\n"
     ]
    }
   ],
   "source": [
    "# Test 3\n",
    "T = LinkedTree()\n",
    "\n",
    "# Write your test case setup and results\n",
    "\"\"\"\n",
    "# 테스트의 목적: Array와 가질 수 있는 Children의 최대 갯수가 주어지면 Array를 \n",
    "                ArrayBasedCompleteTree(depth가 가장 큰 node들을 제외하고는 internal node들은 child를 full로 가지고 있고 \n",
    "                leaf node는 왼쪽부터 채워지는 방식의 Tree) 규칙으로 읽어서 Linked Tree로 바꿔주는 함수의 구현을 통한 \n",
    "                None Element로도 _add_root와 _add_child가 오류없이 실행 가능한지에 대한 검증과 levelorder() 함수를 통해 받아온 \n",
    "                Position값을 통한 Tree의 node 접근 및 _replace() 함수 적용이 가능한지에 대한 검증\n",
    "# 테스트에서 기대되는 결과값: 다양한 Size의 ArrayBasedCompleteTree의 Error없는 구현\n",
    "\"\"\"\n",
    "def array2tree(array, childrenMax):\n",
    "    tree = LinkedTree()\n",
    "    root = tree._add_root(None)\n",
    "    positionList = [root]*childrenMax\n",
    "    for i in range(0, len(array)-1):\n",
    "        child = tree._add_child(positionList.pop(), None)\n",
    "        positionList = [child]*childrenMax + positionList\n",
    "    levelorderlist = []\n",
    "    for node in tree.levelorder():\n",
    "        levelorderlist.append(node)\n",
    "    for match in range(0, len(array)):\n",
    "        tree._replace(levelorderlist[match], array[match])\n",
    "    return tree\n",
    "\n",
    "array1 = []\n",
    "array2 = [\"A\"]\n",
    "array3 = [\"A\", \"B\", \"C\"]\n",
    "array4 = [\"A\", \"B\", \"C\", \"D\", \"E\", \"F\", \"G\"]\n",
    "array5 = [\"A\", \"B\", \"C\", \"D\", \"E\", \"F\", \"G\", \"H\", \"I\", \"J\", \"K\", \"L\", \"M\", \"N\", \"O\", \"P\"]\n",
    "    \n",
    "TestCase1 = array2tree(array1, 5)\n",
    "print(f\"TestCase1: {[node for node in TestCase1]}\") # Expected Output: TestCase1: [None]\n",
    "\n",
    "TestCase2 = array2tree(array2, 5)\n",
    "print(f\"TestCase2: {[node for node in TestCase2]}\") # Expected Output: TestCase2: ['A']\n",
    "\n",
    "TestCase3 = array2tree(array3, 5)\n",
    "print(f\"TestCase3: {[node for node in TestCase3]}\") # Expected Output: TestCase3: ['A', 'B', 'C']\n",
    "\n",
    "TestCase4 = array2tree(array4, 5)\n",
    "print(f\"TestCase4: {[node for node in TestCase4]}\") # Expected Output: TestCase4: ['A', 'B', 'G', 'C', 'D', 'E', 'F']\n",
    "\n",
    "TestCase5 = array2tree(array5, 5)\n",
    "print(f\"TestCase5: {[node for node in TestCase5]}\") # Expected Output: TestCase5: ['A', 'B', 'G', 'H', 'I', 'J', 'K', 'C', 'L', 'M', 'N', 'O', 'P', 'D', 'E', 'F']"
   ]
  },
  {
   "cell_type": "code",
   "execution_count": 11,
   "id": "5bf0d2a5-1732-4043-ae7d-dd8268eedcd3",
   "metadata": {
    "tags": []
   },
   "outputs": [
    {
     "name": "stdout",
     "output_type": "stream",
     "text": [
      "Cleared Tree's Root is None\n",
      "Cleared Tree's Size is 0\n",
      "Cleared Tree's Root is None\n",
      "Cleared Tree's Size is 0\n",
      "Cleared Tree's Root is None\n",
      "Cleared Tree's Size is 0\n",
      "Cleared Tree's Root is None\n",
      "Cleared Tree's Size is 0\n",
      "Cleared Tree's Root is None\n",
      "Cleared Tree's Size is 0\n"
     ]
    }
   ],
   "source": [
    "# Test 4\n",
    "T = LinkedTree()\n",
    "\n",
    "# Write your test case setup and results\n",
    "\"\"\"\n",
    "테스트의 목적: Tree는 이론적으로는 Leaf Node부터 차례로 Position을 받아와서 제거하면 \n",
    "                Error의 발생 없이 Clear한 Tree를 만들 수 있다. \n",
    "                이것이 잘 작동하는지 확인하는 것을 통해 Test3에서 구현한 array2tree()를 이용한 같은 size와 element를 가지지만\n",
    "                다양한 구조의 Tree를 만들어 모든 Tree 구조에 대해 postorder() 함수가 Leaf Node부터 position 값을 제대로 \n",
    "                순서대로 리턴하고 있는 것이 맞는지와 _delete() 함수가 Children이 없으면 \n",
    "                Tree 안의 어느 위치에 있는 Node이던 delete할 수 있는지를 검증한다. \n",
    "테스트에서 기대되는 결과값: array2tree()를 이용하여 만든 같은 size와 element를 가지지만\n",
    "                구조가 다양한 각각의 Tree를 Clear한 이후에 공통적으로 Root Position 접근시 none 리턴, Tree의 Size 0 리턴\n",
    "\"\"\"\n",
    "\n",
    "def clearTree(tree):\n",
    "    postorderlist = []\n",
    "    for node in tree.postorder():\n",
    "        postorderlist.append(node)\n",
    "    for node in postorderlist:\n",
    "        tree._delete(node)\n",
    "\n",
    "array = [\"A\", \"B\", \"C\", \"D\", \"E\", \"F\", \"G\", \"H\", \"I\", \"J\", \"K\", \"L\", \"M\", \"N\", \"O\", \"P\"]\n",
    "    \n",
    "TestCase1 = array2tree(array, 1)\n",
    "clearTree(TestCase1)\n",
    "print(f\"Cleared Tree's Root is {TestCase1.root()}\") # Expected Output: Cleared Tree's Root is None\n",
    "print(f\"Cleared Tree's Size is {len(TestCase1)}\") # Expected Output: Cleared Tree's Size is 0\n",
    "\n",
    "TestCase2 = array2tree(array, 2)\n",
    "clearTree(TestCase2)\n",
    "print(f\"Cleared Tree's Root is {TestCase2.root()}\") # Expected Output: Cleared Tree's Root is None\n",
    "print(f\"Cleared Tree's Size is {len(TestCase2)}\") # Expected Output: Cleared Tree's Size is 0\n",
    "\n",
    "TestCase3 = array2tree(array, 3)\n",
    "clearTree(TestCase3)\n",
    "print(f\"Cleared Tree's Root is {TestCase3.root()}\") # Expected Output: Cleared Tree's Root is None\n",
    "print(f\"Cleared Tree's Size is {len(TestCase3)}\") # Expected Output: Cleared Tree's Size is 0\n",
    "\n",
    "TestCase4 = array2tree(array, 4)\n",
    "clearTree(TestCase4)\n",
    "print(f\"Cleared Tree's Root is {TestCase4.root()}\") # Expected Output: Cleared Tree's Root is None\n",
    "print(f\"Cleared Tree's Size is {len(TestCase4)}\") # Expected Output: Cleared Tree's Size is 0\n",
    "\n",
    "TestCase5 = array2tree(array, 5)\n",
    "clearTree(TestCase5)\n",
    "print(f\"Cleared Tree's Root is {TestCase5.root()}\") # Expected Output: Cleared Tree's Root is None\n",
    "print(f\"Cleared Tree's Size is {len(TestCase5)}\") # Expected Output: Cleared Tree's Size is 0"
   ]
  },
  {
   "cell_type": "code",
   "execution_count": 12,
   "id": "e9a761da-be43-49df-8b10-3186c87360a6",
   "metadata": {
    "tags": []
   },
   "outputs": [
    {
     "name": "stdout",
     "output_type": "stream",
     "text": [
      "TestCase1: [1, 2, 3, 4, 5, 6, 7, 8, 9, 10, 11, 12, 13, 14, 15, 16]\n",
      "TestCase2: [1, 2, 3, 4, 5, 6, 7, 8, 9, 10, 11, 12, 13, 14, 15, 16]\n",
      "TestCase3: [1, 2, 3, 4, 5, 6, 7, 8, 9, 10, 11, 12, 13, 14, 15, 16]\n",
      "TestCase4: [1, 2, 3, 4, 5, 6, 7, 8, 9, 10, 11, 12, 13, 14, 15, 16]\n",
      "TestCase5: [1, 2, 3, 4, 5, 6, 7, 8, 9, 10, 11, 12, 13, 14, 15, 16]\n"
     ]
    }
   ],
   "source": [
    "# Test 5\n",
    "T = LinkedTree()\n",
    "\n",
    "# Write your test case setup and results\n",
    "\"\"\"\n",
    "테스트의 목적: Test3에서 구현한 array2tree()를 이용한 같은 size와 element를 가지지만\n",
    "                다양한 구조의 Tree를 만들어 모든 Tree 구조에 대해 levelorder() 함수가 오류없이 정상적으로 동작하는 것을 확인.\n",
    "테스트에서 기대되는 결과값: Test3에서 구현한 array2tree()를 이용해서 만든 다양한 구조의 Tree 구조에 대해 levelorder() 함수를\n",
    "                적용하였으므로 levelorder() 함수가 논리오류가 없는한 모두 출력되는 결과가 같아야 한다.\n",
    "\"\"\"\n",
    "array = [1, 2, 3, 4, 5, 6, 7, 8, 9, 10, 11, 12, 13, 14, 15, 16]\n",
    "\n",
    "TestCase1 = array2tree(array, 1)\n",
    "print(f\"TestCase1: {[node.element() for node in TestCase1.levelorder()]}\") # Expected Output: TestCase1: [1, 2, 3, 4, 5, 6, 7, 8, 9, 10, 11, 12, 13, 14, 15, 16]\n",
    "\n",
    "TestCase2 = array2tree(array, 2)\n",
    "print(f\"TestCase2: {[node.element() for node in TestCase2.levelorder()]}\") # Expected Output: TestCase2: [1, 2, 3, 4, 5, 6, 7, 8, 9, 10, 11, 12, 13, 14, 15, 16]\n",
    "\n",
    "TestCase3 = array2tree(array, 3)\n",
    "print(f\"TestCase3: {[node.element() for node in TestCase3.levelorder()]}\") # Expected Output: TestCase3: [1, 2, 3, 4, 5, 6, 7, 8, 9, 10, 11, 12, 13, 14, 15, 16]\n",
    "\n",
    "TestCase4 = array2tree(array, 4)\n",
    "print(f\"TestCase4: {[node.element() for node in TestCase4.levelorder()]}\") # Expected Output: TestCase4: [1, 2, 3, 4, 5, 6, 7, 8, 9, 10, 11, 12, 13, 14, 15, 16]\n",
    "\n",
    "TestCase5 = array2tree(array, 5)\n",
    "print(f\"TestCase5: {[node.element() for node in TestCase5.levelorder()]}\") # Expected Output: TestCase5: [1, 2, 3, 4, 5, 6, 7, 8, 9, 10, 11, 12, 13, 14, 15, 16]"
   ]
  },
  {
   "cell_type": "markdown",
   "id": "ae4cf37d-c5fc-438a-943b-82b84249289b",
   "metadata": {},
   "source": [
    "# Submission\n",
    "\n",
    "Submit three files: `linked_tree.py`, `tree.py`, and `hw2.ipynb`.\n",
    "\n",
    "- `linked_tree.py` should include the `_add_root`, `_add_child`, `_replace`, `_delete` methods, and your comments explaining all the methods.\n",
    "\n",
    "- `tree.py` should include the Tree class with the `levelorder()` method. Make sure to include comments explaining your code.\n",
    "\n",
    "- In this notebook file `hw2.ipynb`, write your own test cases to test your implementation with various tree structures and various examples to ensure its correctness. "
   ]
  }
 ],
 "metadata": {
  "kernelspec": {
   "display_name": "Python 3 (ipykernel)",
   "language": "python",
   "name": "python3"
  },
  "language_info": {
   "codemirror_mode": {
    "name": "ipython",
    "version": 3
   },
   "file_extension": ".py",
   "mimetype": "text/x-python",
   "name": "python",
   "nbconvert_exporter": "python",
   "pygments_lexer": "ipython3",
   "version": "3.9.13"
  }
 },
 "nbformat": 4,
 "nbformat_minor": 5
}
