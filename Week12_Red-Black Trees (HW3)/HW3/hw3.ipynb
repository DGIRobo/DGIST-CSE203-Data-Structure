{
 "cells": [
  {
   "cell_type": "markdown",
   "id": "bdd731c1-18d3-4d74-a09d-c727a3a6fc86",
   "metadata": {},
   "source": [
    "# HW 3. Red-black tree\n",
    "For this assignment, you are required to implement the core operations of a red-black tree.\n",
    "**Carefully read** the instructions and impelement it.\n",
    "\n",
    "# General Policies\n",
    "1. **Individual Work**: All assignments must be completed individually. Group work or collaboration between students is not allowed unless explicitly specified. \n",
    "2. **Academic Integrity**: The course strictly adheres to the institution's academic integrity policy. Any forms of academic misconduct, including but not limited to plagiarism, cheating, and unauthorized assistance, will not be tolerated and will be dealt with according to the policy.\n",
    "3. **No Use of AI Agents**: The use of AI agents, machine learning models, or automated programming tools to complete assignments is strictly prohibited. The goal of the assignments is to learn, practice, and demonstrate your understanding and ability to implement and use the concepts taught in this course.\n",
    "4. **Code Quality**: Your code should be well-structured, well-commented, and easy to read. It should demonstrate good programming practices.\n",
    "5. **Late Submission Policy**: Assignments must be submitted by the stated due date and time. Late submissions will be subject to a penalty, 10% deduction per each hour of late submission.\n",
    "\n",
    "Remember, the purpose of the assignments is to enhance your understanding of the material. It's important to approach them with the intent of learning. If you have any questions or difficulties, don't hesitate to seek help from the instructor or teaching assistants.\n",
    "\n",
    "# Submission\n",
    "You are required to submit just one file: `redblack_tree.py`.\n",
    "\n",
    "- The file `redblack_tree.py` must contain your complete implementations of the `search`, `insert`, and `delete` methods (and other methods if needed), along with explanatory comments detailing the functionality of these methods.\n",
    "- Ensure that `redblack_tree.py` only includes a single class, `RedBlackTree`, which contains `_Node` as an internal class. Importing or declaring any additional packages or classes is strictly prohibited.\n",
    "\n"
   ]
  },
  {
   "cell_type": "markdown",
   "id": "10df91d1-e572-4b2f-b76b-75c586f205a3",
   "metadata": {
    "tags": []
   },
   "source": [
    "# HW 3-1. Complete the red-black tree `search` and `insert` function. (20p)\n",
    "\n",
    "In the `redblack_tree.py`, complete `search(self,element)` and `insert(self, element)` function, with respect to the implementation presented in the lecture slide.\n",
    "\n",
    "## Requirements\n",
    "* Your `search(self, element)` function should return the element of the found node if the element is found in the tree. Return `None` otherwise. It should not modify the tree in any way.\n",
    "* Your `insert(self, element)` function should add the element into the tree correctly, maintaining the red-black tree properties.\n",
    "  * Ensure that your insert(self, element) function handles the \"double red\" situation, covering all possible cases - recoloring, propagation due to recoloring, and the four cases of reconstruction (left-left, left-right, right-left, right-right).\n",
    "\n",
    "* Add any additional methods as you need, but DO NOT make or use any other class. Implement everything inside the `RedBlackTree` class\n",
    "  * For example, `_rotate`, `_recoloring`, `_reconstruct`, etc. used for maintaining the red-black tree properties should be implemented as internal methods of `RedBlackTree` class.\n",
    "  \n",
    "* Add detailed comments in your code to explain what each part of your functions is doing.\n",
    "* No modification of `_Node` class is allowed\n",
    "\n",
    "You can assume the followings:\n",
    "* There will be no duplicated insertion (=inserting an existing element).\n",
    "* You can freely modify the bonus functions (`_is_black`, `_successor`, `_sibiling`).\n",
    "\n",
    "## Help functions\n",
    "Please use the following supporting functions to check the validity of your impelementations. \n",
    "\n",
    "* `display()` is a method to visually represent the state of a red-black tree. \n",
    "  * It does so by recursively traversing the tree, with each node's value, color, and position (with depth indicated by indentation and the root node denoted with a special symbol) being printed. \n",
    "  * In addition to this, the method checks for parent-child consistency in the tree structure. If there are inconsistencies, the method prints out error messages accordingly.\n",
    "  \n",
    "* `inorder_traverse()` is a method designed to carry out an in-order traversal on a red-black tree.\n",
    "  * The function returns a list of elements from the tree in a sorted (ascending) order, given that the tree is a valid binary search tree.\n",
    "  \n",
    "* `check_tree_property()` is a method to validate various properties of a red-black tree.\n",
    "  * If the tree is empty, it informs about the empty tree status.\n",
    "  * Otherwise, it checks for the correct parent-child link, the binary search tree property, root being black, no consecutive red nodes (no double red), and the equal black height property for all paths from any given node to its leaf nodes.\n",
    "  * After each property check, it prints a 'Done' message to indicate the completion of the respective check.\n",
    "  \n",
    "* `check_tree_property_silent()` is a silent version of the ``check_tree_property()` method.\n",
    "  * It simply returns `True` if all the red-black properties are valid, `False` otherwise."
   ]
  },
  {
   "cell_type": "code",
   "execution_count": 1,
   "id": "33531e83-284f-416d-96e4-718e6e2ae22d",
   "metadata": {
    "tags": []
   },
   "outputs": [
    {
     "name": "stdout",
     "output_type": "stream",
     "text": [
      "--------------\n",
      "    * None(B)\n",
      "> 100(B)\n",
      "    * None(B)\n",
      "--------------\n"
     ]
    }
   ],
   "source": [
    "from redblack_tree import RedBlackTree\n",
    "\n",
    "# Example test cases to verify your implementation\n",
    "T = RedBlackTree()\n",
    "\n",
    "# Test case 1: Test inserting just one element (should be the root)\n",
    "root = T.insert(100)\n",
    "T.display()"
   ]
  },
  {
   "cell_type": "code",
   "execution_count": 2,
   "id": "870fda45-5f97-4ef3-b5de-d4fc87ab9182",
   "metadata": {
    "tags": []
   },
   "outputs": [
    {
     "name": "stdout",
     "output_type": "stream",
     "text": [
      "--------------\n",
      "        * None(B)\n",
      "    * 150(R)\n",
      "        * None(B)\n",
      "> 100(B)\n",
      "        * None(B)\n",
      "    * 50(R)\n",
      "        * None(B)\n",
      "--------------\n"
     ]
    }
   ],
   "source": [
    "# Test case 2: Try adding left and right child, (they should be all reds)\n",
    "T.insert(50)\n",
    "T.insert(150)\n",
    "T.display()"
   ]
  },
  {
   "cell_type": "code",
   "execution_count": null,
   "id": "2e057772-a2fb-4bd0-92ca-c4d006af21dd",
   "metadata": {
    "tags": []
   },
   "outputs": [],
   "source": [
    "# Test case 2: Try adding one more\n",
    "# This should be recolored.\n",
    "T.insert(30)\n",
    "T.display()"
   ]
  },
  {
   "cell_type": "code",
   "execution_count": null,
   "id": "9e359109",
   "metadata": {
    "tags": []
   },
   "outputs": [],
   "source": [
    "# Test case 3: Reconstruction, with left child-left child case \n",
    "T.insert(10)\n",
    "T.display()"
   ]
  },
  {
   "cell_type": "code",
   "execution_count": null,
   "id": "b12d101c",
   "metadata": {
    "tags": []
   },
   "outputs": [],
   "source": [
    "# Test case 4: Reconstruction, with left child-right child case \n",
    "T.insert(125)\n",
    "T.insert(140)\n",
    "T.display()"
   ]
  },
  {
   "cell_type": "code",
   "execution_count": null,
   "id": "707c57fa",
   "metadata": {
    "tags": []
   },
   "outputs": [],
   "source": [
    "# Test case 5: Recoloring, then reconstruction\n",
    "# with right child-right child case\n",
    "T.insert(175)\n",
    "T.insert(200)\n",
    "T.display()"
   ]
  },
  {
   "cell_type": "code",
   "execution_count": null,
   "id": "23b85a63",
   "metadata": {
    "tags": []
   },
   "outputs": [],
   "source": [
    "# Test case 6: Recoloring, then propagation to a reconstruction\n",
    "# with right child-left child case\n",
    "T.insert(250)\n",
    "T.display()\n",
    "\n",
    "node_125 = T.search(125)\n",
    "print(node_125)\n",
    "print(T.search(1111))"
   ]
  },
  {
   "cell_type": "code",
   "execution_count": null,
   "id": "0fa59990",
   "metadata": {
    "tags": []
   },
   "outputs": [],
   "source": [
    "# Make some random sequence, and check\n",
    "import random\n",
    "random.seed()\n",
    "\n",
    "# make some non-duplicated numbers\n",
    "numbers = list(range(50))\n",
    "random.shuffle(numbers)\n",
    "\n",
    "# iterate through the numbers, and insert them into the tree\n",
    "T = RedBlackTree()\n",
    "count = 0\n",
    "for n in numbers:\n",
    "    print(f'inserting {n} ...')\n",
    "    T.insert(n)\n",
    "    count += 1\n",
    "    assert(T.search(n) != None), \"The inserted item is missing in the tree\"\n",
    "    assert(T._size == count), f\"The size of the tree is different from expected number, {T._size}, {count}\"\n",
    "    assert(T.check_tree_property_silent() == True), \"The red-black tree property is broken\"\n",
    "\n",
    "# display the tree (if you want)\n",
    "T.display()\n",
    "\n",
    "# Check the tree's validity\n",
    "T.check_tree_property()\n",
    "\n",
    "# check if the tree is valid\n",
    "print(\"> The inorder traverse is equal to the initial list?\")\n",
    "print(T.inorder_traverse() == sorted(numbers))"
   ]
  },
  {
   "cell_type": "markdown",
   "id": "79aece0c",
   "metadata": {},
   "source": [
    "# HW 3-2. Complete the red-black tree delete function. (10p)\n",
    "In the `redblack_tree.py`, complete the `delete(self, element)` function with respect to the implementation presented in the lecture slide.\n",
    "\n",
    "## Requirements\n",
    "* Your `delete(self, element)` function should remove the specified element from the tree while correctly maintaining the red-black tree properties.\n",
    "  * Return the element of the deleted node, and return `None` when no item is found.\n",
    "  * When deleting a node with two children, **replace it with the in-order successor (the next larger element)** in the tree.\n",
    "  * Ensure that your delete method handles all the \"double black\" cases, covering all possible situations - case 1, case 2, and case 3.\n",
    "  * Add any additional methods as you need, but DO NOT make or use any other class. Implement everything inside the `RedBlackTree` class\n",
    "    * Previously impelmeneted ethods such as `_rotate`, `_recoloring`, `_reconstruct`, etc. might be reused.\n",
    "  * Add detailed comments in your code to explain what each part of your functions is doing. This will demonstrate your understanding of the red-black tree deletion algorithm.\n",
    "  * No modification of the `_Node` class is allowed.\n",
    "\n",
    "You can assume the following:\n",
    "* The element to be deleted is guaranteed to exist in the tree.\n",
    "* You can freely modify the bonus functions (`_is_black`, `_successor`, `_sibling`)."
   ]
  },
  {
   "cell_type": "code",
   "execution_count": null,
   "id": "93147b6f",
   "metadata": {},
   "outputs": [],
   "source": [
    "# Preparing a tree for the test\n",
    "T = RedBlackTree()\n",
    "\n",
    "\n",
    "T.insert(50)\n",
    "T.insert(150)\n",
    "T.insert(30)\n",
    "T.insert(10)\n",
    "T.insert(125)\n",
    "T.insert(140)\n",
    "T.insert(175)\n",
    "T.insert(200)\n",
    "T.insert(250)\n",
    "T.display()\n",
    "\n",
    "\n",
    "# make your own test cases for all the deletion cases.\n",
    "T.delete(150)\n",
    "T.delete(200)\n",
    "T.delete(175)\n",
    "\n",
    "T.display()\n",
    "\n",
    "T.delete(250)\n",
    "\n",
    "T.display()"
   ]
  },
  {
   "cell_type": "code",
   "execution_count": null,
   "id": "f45ec7a8",
   "metadata": {},
   "outputs": [],
   "source": [
    "# Make some random sequence, and check\n",
    "import random\n",
    "random.seed()\n",
    "\n",
    "# make some non-duplicated numbers\n",
    "numbers = list(range(50))\n",
    "random.shuffle(numbers)\n",
    "\n",
    "# iterate through the numbers, and insert them into the tree\n",
    "T = RedBlackTree()\n",
    "count = 0\n",
    "for n in numbers:\n",
    "    print(f'inserting {n} ...')\n",
    "    T.insert(n)\n",
    "    count += 1\n",
    "    assert(T.search(n) != None), \"The inserted item is missing in the tree\"\n",
    "    assert(T._size == count), f\"The size of the tree is different from expected number, {T._size}, {count}\"\n",
    "    assert(T.check_tree_property_silent() == True), \"The red-black tree property is broken\"\n",
    "\n",
    "random.shuffle(numbers)\n",
    "for n in numbers:\n",
    "    print(f'deleting {n} ...')\n",
    "    T.delete(n)\n",
    "    count -= 1\n",
    "    assert(T.search(n) == None), \"The deleted item is still remaining in the tree\"\n",
    "    assert(T._size == count), f\"The size of the tree is different from expected number, {T._size}, {count}\"\n",
    "    assert(T.check_tree_property_silent() == True), \"The red-black tree property is broken\"\n",
    "    \n",
    "    if T.check_tree_property_silent() == False:\n",
    "        print(\"Error: the tree property is violated after inserting\", n)\n",
    "        break\n",
    "\n",
    "\n",
    "# display the tree (should be empty at this point)\n",
    "T.display()"
   ]
  },
  {
   "cell_type": "code",
   "execution_count": null,
   "id": "8c115341-c144-48e3-abad-d71c1a088f28",
   "metadata": {},
   "outputs": [],
   "source": []
  }
 ],
 "metadata": {
  "kernelspec": {
   "display_name": "Python 3 (ipykernel)",
   "language": "python",
   "name": "python3"
  },
  "language_info": {
   "codemirror_mode": {
    "name": "ipython",
    "version": 3
   },
   "file_extension": ".py",
   "mimetype": "text/x-python",
   "name": "python",
   "nbconvert_exporter": "python",
   "pygments_lexer": "ipython3",
   "version": "3.9.13"
  }
 },
 "nbformat": 4,
 "nbformat_minor": 5
}
